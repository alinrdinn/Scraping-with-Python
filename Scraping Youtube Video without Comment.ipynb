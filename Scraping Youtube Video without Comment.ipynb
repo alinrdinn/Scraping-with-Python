{
 "cells": [
  {
   "cell_type": "markdown",
   "metadata": {},
   "source": [
    "# Scraping YouTube without Comment\n",
    "Made by Ali Nurdin"
   ]
  },
  {
   "cell_type": "code",
   "execution_count": 1,
   "metadata": {},
   "outputs": [],
   "source": [
    "# This section will import Selenium and Time\n",
    "from selenium import webdriver\n",
    "import time"
   ]
  },
  {
   "cell_type": "code",
   "execution_count": 2,
   "metadata": {},
   "outputs": [],
   "source": [
    "# This section will open Web Driver\n",
    "Driver = webdriver.Chrome()"
   ]
  },
  {
   "cell_type": "code",
   "execution_count": 29,
   "metadata": {},
   "outputs": [],
   "source": [
    "# This section will get you to channel's video tab\n",
    "Driver.get(\"https://www.youtube.com/channel/UC-6OyeP_Tk6G-gt5JSVKzkg/videos\") # Go to channel video tab\n",
    "time.sleep(5)"
   ]
  },
  {
   "cell_type": "code",
   "execution_count": 30,
   "metadata": {},
   "outputs": [],
   "source": [
    "# Videos primary element\n",
    "Primary = Driver.find_element_by_tag_name(\"body\").find_element_by_id(\"content\").find_element_by_id(\"page-manager\").find_element_by_tag_name(\"ytd-browse\").find_element_by_tag_name(\"ytd-two-column-browse-results-renderer\").find_element_by_id(\"primary\")"
   ]
  },
  {
   "cell_type": "code",
   "execution_count": 31,
   "metadata": {},
   "outputs": [],
   "source": [
    "# Continuation element\n",
    "Continuation = Primary.find_element_by_xpath(\"ytd-section-list-renderer/div[2]/ytd-item-section-renderer/div[3]/ytd-grid-renderer/div[2]\")"
   ]
  },
  {
   "cell_type": "code",
   "execution_count": 32,
   "metadata": {},
   "outputs": [],
   "source": [
    "# This section defines two functions for finding continuation and skipping the ads\n",
    "def Continuation(Continuation):\n",
    "    try:\n",
    "        Driver.execute_script(\"return arguments[0].scrollIntoView();\", Driver.find_element_by_xpath(\"html/body/ytd-app/div/ytd-page-manager/ytd-browse/ytd-two-column-browse-results-renderer/div[1]/ytd-section-list-renderer/div[2]/ytd-item-section-renderer/div[3]/ytd-grid-renderer/div[2]/yt-next-continuation/paper-spinner\"))\n",
    "        time.sleep(3)\n",
    "        return True\n",
    "    except:\n",
    "        return False\n",
    "    \n",
    "def skipAdFunction():\n",
    "    try:\n",
    "        time.sleep(4)\n",
    "        SkipButton = Driver.find_element_by_xpath('//*[@id=\"movie_player\"]').find_element_by_css_selector(\"div.video-ads.ytp-ad-module\").find_element_by_css_selector(\"div.ytp-ad-player-overlay\").find_element_by_css_selector(\"div.ytp-ad-player-overlay-skip-or-preview\").find_element_by_css_selector(\"div.ytp-ad-skip-ad-slot\").find_element_by_css_selector(\"div.ytp-ad-skip-button-slot\").find_element_by_tag_name(\"span\").find_element_by_tag_name(\"button\")\n",
    "        SkipButton.click()\n",
    "    except:\n",
    "        pass\n",
    "    "
   ]
  },
  {
   "cell_type": "code",
   "execution_count": 33,
   "metadata": {},
   "outputs": [],
   "source": [
    "# This section will do continuation on the video tab\n",
    "while Continuation(Continuation):\n",
    "    continue\n",
    "    \n",
    "time.sleep(5)"
   ]
  },
  {
   "cell_type": "code",
   "execution_count": 34,
   "metadata": {},
   "outputs": [],
   "source": [
    "# This will initialize arrays for video's duration and also video's URL.\n",
    "Video_duration = []\n",
    "Video_url = []"
   ]
  },
  {
   "cell_type": "code",
   "execution_count": 35,
   "metadata": {},
   "outputs": [],
   "source": [
    "# This will append both array above with videos that are in the video tab.\n",
    "Items = Driver.find_element_by_xpath(\"html/body/ytd-app/div/ytd-page-manager/ytd-browse/ytd-two-column-browse-results-renderer/div[1]/ytd-section-list-renderer/div[2]/ytd-item-section-renderer/div[3]/ytd-grid-renderer\").find_element_by_id(\"items\")\n",
    "Videos = Items.find_elements_by_tag_name(\"ytd-grid-video-renderer\")\n",
    "\n",
    "for Video in Videos:\n",
    "    Driver.execute_script(\"return arguments[0].scrollIntoView();\", Video)\n",
    "    time.sleep(1)\n",
    "    Video_duration.append(Video.find_element_by_xpath(\"div[1]/ytd-thumbnail/a/div[1]/ytd-thumbnail-overlay-time-status-renderer/span\").text)\n",
    "    Video_url.append(Video.find_element_by_xpath(\"div[1]/ytd-thumbnail/a\").get_attribute(\"href\"))"
   ]
  },
  {
   "cell_type": "code",
   "execution_count": 36,
   "metadata": {},
   "outputs": [],
   "source": [
    "# This will initialize arrays for videos' data.\n",
    "Videos_data = []"
   ]
  },
  {
   "cell_type": "code",
   "execution_count": 55,
   "metadata": {},
   "outputs": [],
   "source": [
    "time.sleep(3)\n",
    "# len(Video_url)\n",
    "for i in range(0, 1):\n",
    "    # Go to video Go to the video corresponding to the existing URL.\n",
    "    Driver.get(Video_url[i])\n",
    "    time.sleep(4)\n",
    "    \n",
    "    # Extract video id\n",
    "    Video_id = Video_url[i].split(\"?v=\")[-1]\n",
    "    \n",
    "    # Find player element\n",
    "    Column = Driver.find_element_by_tag_name(\"body\").find_element_by_id(\"columns\")\n",
    "    Primary_Inner = Column.find_element_by_id(\"primary\").find_element_by_id(\"primary-inner\")\n",
    "    Player = Primary_Inner.find_element_by_id(\"player\")\n",
    "    \n",
    "    # Skip the ads\n",
    "    skipAdFunction()\n",
    "    \n",
    "    # Extract video's quality\n",
    "    Setting_button = Player.find_element_by_xpath(\"div/div/div/ytd-player/div/div\").find_element_by_class_name(\"ytp-chrome-bottom\").find_element_by_xpath(\"div[2]/div[2]/button[4]\") # The index for setting button is either 3 of 4. It's because YouTube add another button which is autoplay button\n",
    "    Setting_button.click()\n",
    "    time.sleep(1)\n",
    "    Menu = Player.find_element_by_xpath(\"div/div/div/ytd-player/div/div\").find_element_by_css_selector(\"div.ytp-popup.ytp-settings-menu\")\n",
    "    Menu.find_elements_by_class_name(\"ytp-menuitem\")[-1].click() # Quality\n",
    "    Quality = []\n",
    "    time.sleep(1)\n",
    "    for quality in Menu.find_element_by_xpath(\"div/div[2]\").find_elements_by_class_name(\"ytp-menuitem\"):\n",
    "        Quality.append(quality.text)\n",
    "    Setting_button.click()\n",
    "    \n",
    "    # Find video info such as Title, number of views, and date\n",
    "    Container = Primary_Inner.find_element_by_id(\"info\").find_element_by_id(\"info-contents\").find_element_by_id(\"container\")\n",
    "    Title = Container.find_element_by_tag_name(\"h1\").text\n",
    "    Info = Container.find_element_by_id(\"info\")\n",
    "    Info_text = Info.find_element_by_id(\"info-text\")\n",
    "    Number_of_views = Info_text.find_element_by_id(\"count\").find_element_by_css_selector(\"span.view-count.style-scope.yt-view-count-renderer\").text.split(\" views\")[0]\n",
    "    Date = Info_text.find_element_by_id(\"date\").find_element_by_tag_name(\"yt-formatted-string\").text.split(\"Streamed live on \")[-1].split(\"Premiered \")[-1]\n",
    "    \n",
    "    # Number of like and dislike\n",
    "    like_dislike_number = Info.find_element_by_id(\"menu-container\").find_element_by_id(\"sentiment\").find_element_by_tag_name(\"paper-tooltip\").find_element_by_id(\"tooltip\")\n",
    "    Driver.execute_script(\"arguments[0].setAttribute('class','style-scope paper-tooltip')\", like_dislike_number)\n",
    "    number = Info.find_element_by_id(\"menu-container\").find_element_by_id(\"sentiment\").find_element_by_tag_name(\"paper-tooltip\").find_element_by_id(\"tooltip\").text\n",
    "    Driver.execute_script(\"arguments[0].setAttribute('class','style-scope paper-tooltip hidden')\", like_dislike_number)\n",
    "    number = number.split(\" / \")\n",
    "    \n",
    "    # Video's description\n",
    "    Meta_container = Primary_Inner.find_element_by_id(\"meta\").find_element_by_id(\"meta-contents\").find_element_by_id(\"container\")\n",
    "    Description = \"\"\n",
    "    try:\n",
    "        Youtube_expander = Meta_container.find_element_by_tag_name(\"ytd-expander\")\n",
    "        Youtube_expander.find_element_by_id(\"more\").click()\n",
    "        Description = Youtube_expander.find_element_by_id(\"content\").find_element_by_id(\"description\").find_element_by_tag_name(\"yt-formatted-string\").text\n",
    "        Youtube_expander.find_element_by_id(\"less\").click()\n",
    "    except:\n",
    "        Description = Youtube_expander.find_element_by_id(\"content\").find_element_by_id(\"description\").find_element_by_tag_name(\"yt-formatted-string\").text\n",
    "    \n",
    "    # Channel's name and number of its subscribers\n",
    "    Channel = Meta_container.find_element_by_id(\"top-row\").find_element_by_tag_name(\"ytd-video-owner-renderer\").find_element_by_id(\"upload-info\")\n",
    "    Channel_name = Channel.find_element_by_id(\"channel-name\").find_element_by_id(\"text-container\").find_element_by_tag_name(\"a\").text\n",
    "    Number_of_subscriber = Channel.find_element_by_id(\"owner-sub-count\").text.split(\" subscribers\")[0]\n",
    "    \n",
    "    # Number of comments.\n",
    "    Comments = Primary_Inner.find_element_by_id(\"comments\")\n",
    "    Driver.execute_script(\"return arguments[0].scrollIntoView();\", Comments)\n",
    "    time.sleep(2)\n",
    "    count = Comments.find_element_by_xpath(\"ytd-item-section-renderer/div[1]/ytd-comments-header-renderer/div[1]/h2/yt-formatted-string\").text.split(\" Comments\")[0]\n",
    "    \n",
    "    \n",
    "    # The video's length\n",
    "    duration = Video_duration[i]\n",
    "    seconds = 0\n",
    "    duration = duration.split(\":\")\n",
    "    if(len(duration) == 3):\n",
    "        seconds = (int(duration[0])*(60**2)) + (int(duration[1])*60) + int(duration[2])\n",
    "    elif (len(duration) == 2):\n",
    "        seconds = (int(duration[0])*60) + int(duration[1])\n",
    "    else:\n",
    "        seconds = int(duration[0])\n",
    "    \n",
    "    Videos_data.append({\n",
    "        \"title_id\" : Video_id,\n",
    "        \"title\" : Title,\n",
    "        \"date\" : Date,\n",
    "        \"description\" : Description,\n",
    "        \"duration\" : seconds,\n",
    "        \"channel\" : Channel_name,\n",
    "        \"number_of_subscriber\" : Number_of_subscriber,\n",
    "        \"quality\" : Quality,\n",
    "        \"number_of_viewer\" : Number_of_views,\n",
    "        \"number_of_like\" : number[0],\n",
    "        \"number_of_dislike\" : number[1],\n",
    "        \"number_of_comment\" : count\n",
    "    })"
   ]
  },
  {
   "cell_type": "code",
   "execution_count": null,
   "metadata": {},
   "outputs": [],
   "source": [
    "# Importing json\n",
    "import json"
   ]
  },
  {
   "cell_type": "code",
   "execution_count": null,
   "metadata": {},
   "outputs": [],
   "source": [
    "# This section will enter the data that has been obtained into the json file.\n",
    "file = open(\"JSON FILE NAME.json\", 'w')\n",
    "json.dump(Videos_data, file)\n",
    "file.close()"
   ]
  }
 ],
 "metadata": {
  "kernelspec": {
   "display_name": "Python 3",
   "language": "python",
   "name": "python3"
  },
  "language_info": {
   "codemirror_mode": {
    "name": "ipython",
    "version": 3
   },
   "file_extension": ".py",
   "mimetype": "text/x-python",
   "name": "python",
   "nbconvert_exporter": "python",
   "pygments_lexer": "ipython3",
   "version": "3.8.0"
  }
 },
 "nbformat": 4,
 "nbformat_minor": 4
}
