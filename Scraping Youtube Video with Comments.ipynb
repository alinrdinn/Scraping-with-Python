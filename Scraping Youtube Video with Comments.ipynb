{
 "cells": [
  {
   "cell_type": "markdown",
   "metadata": {},
   "source": [
    "# Scraping YouTube with Comments (one video)\n",
    "Made by Ali Nurdin"
   ]
  },
  {
   "cell_type": "code",
   "execution_count": 32,
   "metadata": {},
   "outputs": [],
   "source": [
    "# This section will import Selenium and Time\n",
    "from selenium import webdriver\n",
    "import time"
   ]
  },
  {
   "cell_type": "code",
   "execution_count": 33,
   "metadata": {},
   "outputs": [],
   "source": [
    "# This section will open Web Driver\n",
    "Driver = webdriver.Chrome()"
   ]
  },
  {
   "cell_type": "code",
   "execution_count": 34,
   "metadata": {},
   "outputs": [],
   "source": [
    "# This section will get you to video based on given url\n",
    "Driver.get(\"ENTER HERE\") # Enter your video's url here\n",
    "time.sleep(5)"
   ]
  },
  {
   "cell_type": "markdown",
   "metadata": {},
   "source": [
    "First, you must skip the ads. This won't work if video's ads are not skipped. If you want to add auto skipped ads, please check another scraping script in this project (there, you will find the script for skipping the ads)."
   ]
  },
  {
   "cell_type": "code",
   "execution_count": 35,
   "metadata": {},
   "outputs": [],
   "source": [
    "Column = Driver.find_element_by_tag_name(\"body\").find_element_by_id(\"columns\")\n",
    "Primary_Inner = Column.find_element_by_id(\"primary\").find_element_by_id(\"primary-inner\")\n",
    "Movie_Player = Primary_Inner.find_element_by_id(\"player\").find_element_by_id(\"ytd-player\").find_element_by_id(\"container\").find_element_by_id(\"movie_player\")"
   ]
  },
  {
   "cell_type": "code",
   "execution_count": 36,
   "metadata": {},
   "outputs": [],
   "source": [
    "# This section will pause the video (it prevents auto-playing on Youtube).\n",
    "Play_button = Movie_Player.find_element_by_class_name(\"ytp-chrome-controls\").find_element_by_class_name(\"ytp-left-controls\").find_element_by_css_selector(\"button.ytp-play-button.ytp-button\")\n",
    "Play_button.click()"
   ]
  },
  {
   "cell_type": "code",
   "execution_count": 37,
   "metadata": {},
   "outputs": [],
   "source": [
    "# This section will assign video's information (such as duration, title, number of views, date, number of likes and dislike, etc.) to the following variable(s)/object(s).\n",
    "Video_duration = Movie_Player.find_element_by_class_name(\"ytp-chrome-controls\").find_element_by_class_name(\"ytp-left-controls\").find_element_by_css_selector(\"div.ytp-time-display.notranslate\").find_element_by_class_name(\"ytp-time-duration\").text\n",
    "Container = Primary_Inner.find_element_by_id(\"info\").find_element_by_id(\"info-contents\").find_element_by_id(\"container\")\n",
    "Title = Container.find_element_by_tag_name(\"h1\").text\n",
    "Info = Container.find_element_by_id(\"info\")\n",
    "Info_text = Info.find_element_by_id(\"info-text\")\n",
    "Number_of_views = Info_text.find_element_by_id(\"count\").find_element_by_css_selector(\"span.view-count.style-scope.yt-view-count-renderer\").text.split(\" views\")[0]\n",
    "Date = Info_text.find_element_by_id(\"date\").find_element_by_tag_name(\"yt-formatted-string\").text\n",
    "like_dislike_number = Info.find_element_by_id(\"menu-container\").find_element_by_id(\"sentiment\").find_element_by_tag_name(\"paper-tooltip\").find_element_by_id(\"tooltip\")\n",
    "Driver.execute_script(\"arguments[0].setAttribute('class','style-scope paper-tooltip')\", like_dislike_number)\n",
    "number = Info.find_element_by_id(\"menu-container\").find_element_by_id(\"sentiment\").find_element_by_tag_name(\"paper-tooltip\").find_element_by_id(\"tooltip\").text\n",
    "Driver.execute_script(\"arguments[0].setAttribute('class','style-scope paper-tooltip hidden')\", like_dislike_number)\n",
    "number = number.split(\" / \")\n",
    "Meta_container = Primary_Inner.find_element_by_id(\"meta\").find_element_by_id(\"meta-contents\").find_element_by_id(\"container\")\n",
    "Description = \"\"\n",
    "try:\n",
    "    Youtube_expander = Meta_container.find_element_by_tag_name(\"ytd-expander\")\n",
    "    Youtube_expander.find_element_by_id(\"more\").click()\n",
    "    Description = Youtube_expander.find_element_by_id(\"content\").find_element_by_id(\"description\").find_element_by_tag_name(\"yt-formatted-string\").text\n",
    "    Youtube_expander.find_element_by_id(\"less\").click()\n",
    "except:\n",
    "    Description = Youtube_expander.find_element_by_id(\"content\").find_element_by_id(\"description\").find_element_by_tag_name(\"yt-formatted-string\").text\n",
    "    \n",
    "Channel = Meta_container.find_element_by_id(\"top-row\").find_element_by_tag_name(\"ytd-video-owner-renderer\").find_element_by_id(\"upload-info\")\n",
    "Channel_name = Channel.find_element_by_id(\"channel-name\").find_element_by_id(\"text-container\").find_element_by_tag_name(\"a\").text\n",
    "Number_of_subscriber = Channel.find_element_by_id(\"owner-sub-count\").text"
   ]
  },
  {
   "cell_type": "code",
   "execution_count": 38,
   "metadata": {},
   "outputs": [],
   "source": [
    "# Just like its name, this function will handle the continuation of the comment section\n",
    "def continuantions(Comment_section):\n",
    "    try:\n",
    "        Driver.execute_script(\"return arguments[0].scrollIntoView();\", Comment_section.find_element_by_id(\"continuations\").find_element_by_tag_name(\"yt-next-continuation\"))\n",
    "        time.sleep(3)\n",
    "        return True\n",
    "    except:\n",
    "        return False\n",
    "       \n",
    "# Just like its name, this function will expand the reply section on the comment\n",
    "def expand_replies(Replies_section):\n",
    "    try:\n",
    "        Replies_section.find_element_by_id(\"expander-contents\").find_element_by_id(\"continuation\").find_element_by_tag_name(\"yt-next-continuation\").click()\n",
    "        time.sleep(10)\n",
    "        return True\n",
    "    except:\n",
    "        return False"
   ]
  },
  {
   "cell_type": "code",
   "execution_count": 39,
   "metadata": {},
   "outputs": [],
   "source": [
    "# This section will initialize an array for accomodating comments on the given video.\n",
    "Comment_data = []"
   ]
  },
  {
   "cell_type": "code",
   "execution_count": 40,
   "metadata": {},
   "outputs": [],
   "source": [
    "# This section will scrap all comments and the replies on the given video.\n",
    "Driver.execute_script('window.scrollTo(0, document.body.scrollHeight);')\n",
    "time.sleep(5)\n",
    "Comment_tag = Primary_Inner.find_element_by_id(\"comments\")\n",
    "Comment_section = Comment_tag.find_element_by_id(\"sections\")\n",
    "# comments_number = Comment_section.find_element_by_id(\"header\").find_element_by_id(\"title\").find_element_by_id(\"count\").text.split(\" Komentar\")[0]\n",
    "\n",
    "while continuantions(Comment_section):\n",
    "    continue\n",
    "    \n",
    "\n",
    "Comment_contents = Comment_section.find_element_by_id(\"contents\")\n",
    "Comments = Comment_contents.find_elements_by_tag_name(\"ytd-comment-thread-renderer\")\n",
    "\n",
    "for i in range(0, len(Comments)):\n",
    "    Comment = Comments[i]\n",
    "    Comment_main_body = Comment.find_element_by_id(\"comment\").find_element_by_id(\"body\").find_element_by_id(\"main\")\n",
    "    author_name = Comment_main_body.find_element_by_id(\"header\").find_element_by_id(\"header-author\").find_element_by_id(\"author-text\").text\n",
    "    \n",
    "    try:\n",
    "        Comment_main_body.find_element_by_id(\"expander\").find_element_by_id(\"more\").click()\n",
    "    except:\n",
    "        pass\n",
    "    \n",
    "    Comment_content = Comment_main_body.find_element_by_id(\"expander\").find_element_by_id(\"content\").find_element_by_id(\"content-text\").text\n",
    "    date = Comment_main_body.find_element_by_id(\"header\").find_element_by_id(\"header-author\").find_element_by_tag_name(\"yt-formatted-string\").text\n",
    "    likes = Comment_main_body.find_element_by_id(\"action-buttons\").find_element_by_id(\"toolbar\").find_element_by_id(\"vote-count-left\").text\n",
    "    Comment_data.append({\n",
    "        \"author_name\" : author_name,\n",
    "        \"date\" : date,\n",
    "        \"comment\" : Comment_content,\n",
    "        \"number_of_like\" : likes\n",
    "    })\n",
    "    Replis_section = None\n",
    "    try:\n",
    "        Replies_section = Comment.find_element_by_tag_name(\"ytd-comment-replies-renderer\").find_element_by_id(\"expander\")\n",
    "        Replies_section.find_element_by_id(\"more-replies\").click() # buat klik \"lihat balasan\"\n",
    "        time.sleep(5)\n",
    "    except:\n",
    "        continue\n",
    "    while expand_replies(Replies_section):\n",
    "        continue\n",
    "\n",
    "    try:\n",
    "        Replies = Replies_section.find_element_by_id(\"expander-contents\").find_element_by_id(\"loaded-replies\").find_elements_by_tag_name(\"ytd-comment-renderer\")\n",
    "    except:\n",
    "        continue\n",
    "\n",
    "    for reply in Replies:\n",
    "        reply_main_body = reply.find_element_by_id(\"body\").find_element_by_id(\"main\")\n",
    "        reply_author_name = reply_main_body.find_element_by_id(\"header\").find_element_by_id(\"header-author\").find_element_by_id(\"author-text\").text\n",
    "        reply_Comment_content = reply_main_body.find_element_by_id(\"expander\").find_element_by_id(\"content\").find_element_by_id(\"content-text\").text\n",
    "        reply_date = reply_main_body.find_element_by_id(\"header\").find_element_by_id(\"header-author\").find_element_by_tag_name(\"yt-formatted-string\").text\n",
    "        reply_likes = reply_main_body.find_element_by_id(\"action-buttons\").find_element_by_id(\"toolbar\").find_element_by_id(\"vote-count-left\").text\n",
    "        Comment_data.append({\n",
    "            \"author-name\" : reply_author_name,\n",
    "            \"date\" : reply_date,\n",
    "            \"comment\" : reply_Comment_content,\n",
    "            \"number_of_like\" : reply_likes\n",
    "        })\n",
    "    try:\n",
    "        Replies_section.find_element_by_id(\"less-replies\").click()\n",
    "    except:\n",
    "        continue\n",
    "    "
   ]
  },
  {
   "cell_type": "code",
   "execution_count": 41,
   "metadata": {},
   "outputs": [],
   "source": [
    "# This section will assign video id to the following variable(s)/object(s).\n",
    "Video_id = Driver.current_url.split(\"?v=\")[-1]"
   ]
  },
  {
   "cell_type": "code",
   "execution_count": 42,
   "metadata": {},
   "outputs": [],
   "source": [
    "# This section will initialize the array for accomodating data from youtube\n",
    "Youtube_video = []"
   ]
  },
  {
   "cell_type": "code",
   "execution_count": 43,
   "metadata": {},
   "outputs": [],
   "source": [
    "# This section will combine all data which have obtained together.\n",
    "Youtube_video.append({\n",
    "    \"title_id\" : Video_id,\n",
    "    \"title\" : Title,\n",
    "    \"duration\" : Video_duration,\n",
    "    \"date\" : Date,\n",
    "    \"channel\" : Channel_name,\n",
    "    \"description\" : Description,\n",
    "    \"number_of_subscriber\" : \"1,210,000\",\n",
    "    \"number_of_viewer\" : Number_of_views,\n",
    "    \"number_of_like\" : number[0],\n",
    "    \"number_of_dislike\" : number[1],\n",
    "    \"number_of_comment\" : len(Comment_data),\n",
    "    \"comments\" : Comment_data\n",
    "})"
   ]
  },
  {
   "cell_type": "code",
   "execution_count": 44,
   "metadata": {},
   "outputs": [],
   "source": [
    "# Importing json\n",
    "import json"
   ]
  },
  {
   "cell_type": "code",
   "execution_count": 45,
   "metadata": {},
   "outputs": [],
   "source": [
    "# This section will enter the data that has been obtained into the json file.\n",
    "file = open(\"JSON FILE NAME.json\", 'w')\n",
    "json.dump(Youtube_video, file)\n",
    "file.close()"
   ]
  },
  {
   "cell_type": "code",
   "execution_count": null,
   "metadata": {},
   "outputs": [],
   "source": []
  }
 ],
 "metadata": {
  "kernelspec": {
   "display_name": "Python 3",
   "language": "python",
   "name": "python3"
  },
  "language_info": {
   "codemirror_mode": {
    "name": "ipython",
    "version": 3
   },
   "file_extension": ".py",
   "mimetype": "text/x-python",
   "name": "python",
   "nbconvert_exporter": "python",
   "pygments_lexer": "ipython3",
   "version": "3.8.0"
  }
 },
 "nbformat": 4,
 "nbformat_minor": 4
}
